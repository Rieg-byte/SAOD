{
 "cells": [
  {
   "cell_type": "code",
   "execution_count": 3,
   "id": "6b1e4d10",
   "metadata": {},
   "outputs": [
    {
     "ename": "SyntaxError",
     "evalue": "invalid syntax (1638775578.py, line 1)",
     "output_type": "error",
     "traceback": [
      "\u001b[1;36m  File \u001b[1;32m\"C:\\Users\\linek\\AppData\\Local\\Temp\\ipykernel_6896\\1638775578.py\"\u001b[1;36m, line \u001b[1;32m1\u001b[0m\n\u001b[1;33m    ЛАБОРАТОРНАЯ РАБОТА №1\u001b[0m\n\u001b[1;37m                      ^\u001b[0m\n\u001b[1;31mSyntaxError\u001b[0m\u001b[1;31m:\u001b[0m invalid syntax\n"
     ]
    }
   ],
   "source": [
    "ЛАБОРАТОРНАЯ РАБОТА №1\n",
    "ВЫПОЛНИЛ СТУДЕНТ ГРУППЫ БВТ2105 КЕДЯЕВ ЦЕЦЕН"
   ]
  },
  {
   "cell_type": "code",
   "execution_count": 18,
   "id": "d7d5dc2d",
   "metadata": {},
   "outputs": [
    {
     "name": "stdout",
     "output_type": "stream",
     "text": [
      "Hello World\n"
     ]
    }
   ],
   "source": [
    "# Задание №1.\n",
    "# Вызвать функцию print() и передать туда строку Hello, World!\n",
    "\n",
    "print(\"Hello World\")"
   ]
  },
  {
   "cell_type": "code",
   "execution_count": 19,
   "id": "a9da4cf1",
   "metadata": {},
   "outputs": [
    {
     "name": "stdout",
     "output_type": "stream",
     "text": [
      "5\n",
      "5\n",
      "-10\n",
      "10\n",
      "[[7, 3, 5, 7, -6], [8, 1, -2, -4, -10], [6, 0, 6, -5, 9], [0, -2, 7, 5, 9], [3, 3, 3, 4, -3]]\n"
     ]
    }
   ],
   "source": [
    "# Задание №2\n",
    "# Написать генератор случайных матриц(многомерных), который принимает опциональные \n",
    "# параметры m, n, min_limit, max_limit, где m и n указывают размер матрицы, а min_lim и max_lim - \n",
    "# минимальное и максимальное значение для генерируемого числа.\n",
    "\n",
    "import random\n",
    "import time\n",
    "\n",
    "user_m = int(input())\n",
    "user_n = int(input())\n",
    "user_min_limit = int(input())\n",
    "user_max_limit = int(input())\n",
    "\n",
    "\n",
    "def createMatrix(user_m, user_n, user_min_limit, user_max_limit):\n",
    "    return [[random.randint(user_min_limit, user_max_limit) for i in range(user_m)] for j in range(user_n)]\n",
    "\n",
    "\n",
    "matrix = createMatrix(user_m, user_n, user_min_limit, user_max_limit)\n",
    "print(matrix)"
   ]
  },
  {
   "cell_type": "code",
   "execution_count": 20,
   "id": "c54b9a5b",
   "metadata": {},
   "outputs": [],
   "source": [
    "# Задание №3\n",
    "# Реализовать методы сортировки строк числовой матрицы в соответствии с заданием. \n",
    "# Оценить время работы каждого алгоритма сортировки и сравнить его со временем стандартной функции сортировки. \n",
    "# Испытания проводить на сгенерированных матрицах."
   ]
  },
  {
   "cell_type": "code",
   "execution_count": 31,
   "id": "9c67c81d",
   "metadata": {},
   "outputs": [
    {
     "name": "stdout",
     "output_type": "stream",
     "text": [
      "[[-6, 3, 5, 7, 7], [-10, -4, -2, 1, 8], [-5, 0, 6, 6, 9], [-2, 0, 5, 7, 9], [-3, 3, 3, 3, 4]]\n",
      "--- 1 ms ---\n"
     ]
    }
   ],
   "source": [
    "# # Сортировка выбором.\n",
    "# Берётся срез массива, в котором минимальный элемент переносят в самый левый угол,\n",
    "# после чего срез уменьшается и цикл повторяется.\n",
    "start_time = time.time()\n",
    "def selectionSortMatrix(matrix):\n",
    "    def selectionSort(arr):\n",
    "        for i in range(len(arr)):\n",
    "            minInd = i\n",
    "            for j in range(i + 1, len(arr)):\n",
    "                if arr[j] < arr[minInd]:\n",
    "                    minInd = j\n",
    "            arr[minInd], arr[i] = arr[i], arr[minInd]\n",
    "        return arr\n",
    "\n",
    "    result = []\n",
    "    for i in range(len(matrix)):\n",
    "        result.append(selectionSort(matrix[i]))\n",
    "    return result\n",
    "\n",
    "\n",
    "print(selectionSortMatrix(matrix))\n",
    "print(\"--- {0} ms ---\".format(round((time.time() - start_time)*1000))) "
   ]
  },
  {
   "cell_type": "code",
   "execution_count": 32,
   "id": "23e295f1",
   "metadata": {},
   "outputs": [
    {
     "name": "stdout",
     "output_type": "stream",
     "text": [
      "[[-6, 3, 5, 7, 7], [-10, -4, -2, 1, 8], [-5, 0, 6, 6, 9], [-2, 0, 5, 7, 9], [-3, 3, 3, 3, 4]]\n",
      "--- 1 ms ---\n"
     ]
    }
   ],
   "source": [
    "# Сортировка вставкой.\n",
    "start_time = time.time()\n",
    "def insertionSortMatrix(matrix):\n",
    "    def insertionSort(arr):\n",
    "        for i in range(len(arr)):\n",
    "            cursor = arr[i]\n",
    "            p = i\n",
    "            while p < 0 and arr[p - 1] > cursor:\n",
    "                arr[p] = arr[p - 1]\n",
    "                p = p - 1\n",
    "            arr[p] = cursor\n",
    "        return arr\n",
    "\n",
    "    result = []\n",
    "    for i in range(len(matrix)):\n",
    "        result.append(insertionSort(matrix[i]))\n",
    "    return result\n",
    "print(insertionSortMatrix(matrix))\n",
    "print(\"--- {0} ms ---\".format(round((time.time() - start_time)*1000)))"
   ]
  },
  {
   "cell_type": "code",
   "execution_count": 33,
   "id": "fcdb0815",
   "metadata": {},
   "outputs": [
    {
     "name": "stdout",
     "output_type": "stream",
     "text": [
      "[[-6, 3, 5, 7, 7], [-10, -4, -2, 1, 8], [-5, 0, 6, 6, 9], [-2, 0, 5, 7, 9], [-3, 3, 3, 3, 4]]\n",
      "--- 2 ms ---\n"
     ]
    }
   ],
   "source": [
    "# Сортировка обменом. || Сортировка пузырьком.\n",
    "start_time = time.time()\n",
    "def bubbleSortMatrix(matrix):\n",
    "    def bubbleSort(arr):\n",
    "        n = len(arr)\n",
    "        for i in range(n):\n",
    "            for j in range(n - i - 1):\n",
    "                if arr[j] > arr[j + 1]:\n",
    "                    arr[j], arr[j + 1] = arr[j + 1], arr[j]\n",
    "        return arr\n",
    "\n",
    "    result = []\n",
    "    for i in range(len(matrix)):\n",
    "        result.append(bubbleSort(matrix[i]))\n",
    "    return result\n",
    "print(bubbleSortMatrix(matrix))\n",
    "print(\"--- {0} ms ---\".format(round((time.time() - start_time)*1000)))"
   ]
  },
  {
   "cell_type": "code",
   "execution_count": 34,
   "id": "eb973f6c",
   "metadata": {},
   "outputs": [
    {
     "name": "stdout",
     "output_type": "stream",
     "text": [
      "[[-6, 3, 5, 7, 7], [-10, -4, -2, 1, 8], [-5, 0, 6, 6, 9], [-2, 0, 5, 7, 9], [-3, 3, 3, 3, 4]]\n",
      "--- 2 ms ---\n"
     ]
    }
   ],
   "source": [
    "# Сортировка Шелла.\n",
    "start_time = time.time()\n",
    "def shellSortMatrix(matrix):\n",
    "    def shellSort(arr):\n",
    "        gap = len(arr)//2\n",
    "        while gap > 0:\n",
    "            for i in range(gap, len(arr)):\n",
    "                temp = arr[i]\n",
    "                j = i\n",
    "                while j >= gap and arr[j - gap] > temp:\n",
    "                    arr[j] = arr[j-gap]\n",
    "                    j -= gap\n",
    "                    arr[j] = temp\n",
    "            gap //= 2\n",
    "        return arr\n",
    "\n",
    "    result = []\n",
    "    for i in range(len(matrix)):\n",
    "        result.append(shellSort(matrix[i]))\n",
    "    return result\n",
    "print(shellSortMatrix(matrix))\n",
    "print(\"--- {0} ms ---\".format(round((time.time() - start_time)*1000)))"
   ]
  },
  {
   "cell_type": "code",
   "execution_count": 35,
   "id": "01cbbc19",
   "metadata": {},
   "outputs": [
    {
     "name": "stdout",
     "output_type": "stream",
     "text": [
      "[[-6, 3, 5, 7, 7], [-10, -4, -2, 1, 8], [-5, 0, 6, 6, 9], [-2, 0, 5, 7, 9], [-3, 3, 3, 3, 4]]\n",
      "--- 2 ms ---\n"
     ]
    }
   ],
   "source": [
    "# Быстрая сортировка.\n",
    "start_time = time.time()\n",
    "def quickSortMatrix(matrix):\n",
    "    def quickSort(arr):\n",
    "        less = []\n",
    "        equal = []\n",
    "        greater = []\n",
    "\n",
    "        if len(arr) > 1:\n",
    "            pivot = arr[0]\n",
    "            for x in arr:\n",
    "                if x < pivot:\n",
    "                    less.append(x)\n",
    "                elif x == pivot:\n",
    "                    equal.append(x)\n",
    "                elif x > pivot:\n",
    "                    greater.append(x)\n",
    "            return quickSort(less) + equal + quickSort(greater)\n",
    "        else:\n",
    "            return arr\n",
    "\n",
    "    result = []\n",
    "    for i in range(len(matrix)):\n",
    "        result.append(quickSort(matrix[i]))\n",
    "    return result\n",
    "\n",
    "print(quickSortMatrix(matrix))\n",
    "print(\"--- {0} ms ---\".format(round((time.time() - start_time)*1000)))"
   ]
  },
  {
   "cell_type": "code",
   "execution_count": 37,
   "id": "4e57a92c",
   "metadata": {},
   "outputs": [
    {
     "name": "stdout",
     "output_type": "stream",
     "text": [
      "[[-6, 3, 5, 7, 7], [-10, -4, -2, 1, 8], [-5, 0, 6, 6, 9], [-2, 0, 5, 7, 9], [-3, 3, 3, 3, 4]]\n",
      "--- 33000 ms ---\n"
     ]
    }
   ],
   "source": [
    "# Турнирная сортировка \n",
    "\n",
    "def tournamentSortMatrix(matrix):\n",
    "    def heapify(arr, n, i):\n",
    "            largest = i\n",
    "            l = 2 * i + 1\n",
    "            r = 2 * i + 2\n",
    "            if l < n and arr[i] < arr[l]:\n",
    "                largest = l\n",
    "            if r < n and arr[largest] < arr[r]:\n",
    "                largest = r\n",
    "            if largest != i:\n",
    "                arr[i], arr[largest] = arr[largest], arr[i]\n",
    "                heapify(arr, n, largest)\n",
    "    def heapSort(arr):\n",
    "            n = len(arr)\n",
    "            for i in range(n, -1, -1):\n",
    "                heapify(arr, n, i)\n",
    "            for i in range(n - 1, 0, -1):\n",
    "                arr[i], arr[0] = arr[0], arr[i]\n",
    "                heapify(arr, i, 0)\n",
    "            return arr\n",
    "\n",
    "    result = []\n",
    "    for i in range(len(matrix)):\n",
    "        result.append(heapSort(matrix[i]))\n",
    "    return result\n",
    "print(tournamentSortMatrix(matrix))\n",
    "print(\"--- {0} ms ---\".format(round((time.time() - start_time)*1000)))"
   ]
  },
  {
   "cell_type": "code",
   "execution_count": null,
   "id": "757bb9fd",
   "metadata": {},
   "outputs": [],
   "source": []
  },
  {
   "cell_type": "code",
   "execution_count": null,
   "id": "d3127be4",
   "metadata": {},
   "outputs": [],
   "source": []
  },
  {
   "cell_type": "code",
   "execution_count": null,
   "id": "eaf81c9d",
   "metadata": {},
   "outputs": [],
   "source": []
  }
 ],
 "metadata": {
  "kernelspec": {
   "display_name": "Python 3 (ipykernel)",
   "language": "python",
   "name": "python3"
  },
  "language_info": {
   "codemirror_mode": {
    "name": "ipython",
    "version": 3
   },
   "file_extension": ".py",
   "mimetype": "text/x-python",
   "name": "python",
   "nbconvert_exporter": "python",
   "pygments_lexer": "ipython3",
   "version": "3.7.6"
  }
 },
 "nbformat": 4,
 "nbformat_minor": 5
}
